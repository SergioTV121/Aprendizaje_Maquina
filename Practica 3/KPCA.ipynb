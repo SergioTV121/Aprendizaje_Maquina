{
 "cells": [
  {
   "cell_type": "code",
   "execution_count": 1,
   "metadata": {},
   "outputs": [],
   "source": [
    "# Librerías\n",
    "import matplotlib.pyplot as plt\n",
    "import pandas as pd"
   ]
  },
  {
   "cell_type": "code",
   "execution_count": 2,
   "metadata": {},
   "outputs": [],
   "source": [
    "# Reading Dataset\n",
    "df = pd.read_csv(\"dataset.csv\")"
   ]
  },
  {
   "cell_type": "code",
   "execution_count": 12,
   "metadata": {},
   "outputs": [
    {
     "name": "stdout",
     "output_type": "stream",
     "text": [
      "Reading Dataset\n",
      "   Unnamed: 0         UTC  Temperature[C]  Humidity[%]  TVOC[ppb]  eCO2[ppm]  \\\n",
      "0           0  1654733331          20.000        57.36          0        400   \n",
      "1           1  1654733332          20.015        56.67          0        400   \n",
      "2           2  1654733333          20.029        55.96          0        400   \n",
      "3           3  1654733334          20.044        55.28          0        400   \n",
      "4           4  1654733335          20.059        54.69          0        400   \n",
      "5           5  1654733336          20.073        54.12          0        400   \n",
      "6           6  1654733337          20.088        53.61          0        400   \n",
      "7           7  1654733338          20.103        53.20          0        400   \n",
      "\n",
      "   Raw H2  Raw Ethanol  Pressure[hPa]  PM1.0  PM2.5  NC0.5  NC1.0  NC2.5  CNT  \\\n",
      "0   12306        18520        939.735    0.0    0.0    0.0    0.0    0.0    0   \n",
      "1   12345        18651        939.744    0.0    0.0    0.0    0.0    0.0    1   \n",
      "2   12374        18764        939.738    0.0    0.0    0.0    0.0    0.0    2   \n",
      "3   12390        18849        939.736    0.0    0.0    0.0    0.0    0.0    3   \n",
      "4   12403        18921        939.744    0.0    0.0    0.0    0.0    0.0    4   \n",
      "5   12419        18998        939.725    0.0    0.0    0.0    0.0    0.0    5   \n",
      "6   12432        19058        939.738    0.0    0.0    0.0    0.0    0.0    6   \n",
      "7   12439        19114        939.758    0.0    0.0    0.0    0.0    0.0    7   \n",
      "\n",
      "   Fire Alarm  \n",
      "0           0  \n",
      "1           0  \n",
      "2           0  \n",
      "3           0  \n",
      "4           0  \n",
      "5           0  \n",
      "6           0  \n",
      "7           0  \n",
      "Values detected\n",
      "X => \n",
      " [[1.65473333e+09 2.00000000e+01 5.73600000e+01 0.00000000e+00\n",
      "  4.00000000e+02 1.23060000e+04 1.85200000e+04 9.39735000e+02\n",
      "  0.00000000e+00 0.00000000e+00 0.00000000e+00 0.00000000e+00\n",
      "  0.00000000e+00 0.00000000e+00]\n",
      " [1.65473333e+09 2.00150000e+01 5.66700000e+01 0.00000000e+00\n",
      "  4.00000000e+02 1.23450000e+04 1.86510000e+04 9.39744000e+02\n",
      "  0.00000000e+00 0.00000000e+00 0.00000000e+00 0.00000000e+00\n",
      "  0.00000000e+00 1.00000000e+00]\n",
      " [1.65473333e+09 2.00290000e+01 5.59600000e+01 0.00000000e+00\n",
      "  4.00000000e+02 1.23740000e+04 1.87640000e+04 9.39738000e+02\n",
      "  0.00000000e+00 0.00000000e+00 0.00000000e+00 0.00000000e+00\n",
      "  0.00000000e+00 2.00000000e+00]\n",
      " [1.65473333e+09 2.00440000e+01 5.52800000e+01 0.00000000e+00\n",
      "  4.00000000e+02 1.23900000e+04 1.88490000e+04 9.39736000e+02\n",
      "  0.00000000e+00 0.00000000e+00 0.00000000e+00 0.00000000e+00\n",
      "  0.00000000e+00 3.00000000e+00]\n",
      " [1.65473334e+09 2.00590000e+01 5.46900000e+01 0.00000000e+00\n",
      "  4.00000000e+02 1.24030000e+04 1.89210000e+04 9.39744000e+02\n",
      "  0.00000000e+00 0.00000000e+00 0.00000000e+00 0.00000000e+00\n",
      "  0.00000000e+00 4.00000000e+00]]\n",
      "Y => \n",
      " [0 0 0 0 0]\n"
     ]
    }
   ],
   "source": [
    "# Data loading\n",
    "print(\"Reading Dataset\")\n",
    "print(df.iloc[0:8,:])\n",
    "\n",
    "maxsize = 100\n",
    "x = df.iloc[0:maxsize,1:15].values\n",
    "y = df.iloc[0:maxsize,15].values\n",
    "\n",
    "print(\"Values detected\")\n",
    "print(\"X => \\n\", x[:5])\n",
    "print(\"Y => \\n\", y[:5])"
   ]
  },
  {
   "cell_type": "code",
   "execution_count": 13,
   "metadata": {},
   "outputs": [
    {
     "name": "stdout",
     "output_type": "stream",
     "text": [
      "Spliting train data and test data\n"
     ]
    }
   ],
   "source": [
    "# Data Spliting\n",
    "print(\"Spliting train data and test data\")\n",
    "from sklearn.model_selection import train_test_split\n",
    "xtrain,xtest,ytrain,ytest = train_test_split(x,y,test_size=0.2,random_state=0)"
   ]
  },
  {
   "cell_type": "code",
   "execution_count": 14,
   "metadata": {},
   "outputs": [
    {
     "name": "stdout",
     "output_type": "stream",
     "text": [
      "Preprocessing data\n"
     ]
    }
   ],
   "source": [
    "# Preprocessing\n",
    "print(\"Preprocessing data\")\n",
    "from sklearn.preprocessing import StandardScaler \n",
    "\n",
    "scaler = StandardScaler()\n",
    "xtrain = scaler.fit_transform(xtrain)\n",
    "xtest = scaler.fit_transform(xtest)\n",
    "\n",
    "from sklearn.decomposition import KernelPCA "
   ]
  },
  {
   "cell_type": "code",
   "execution_count": 15,
   "metadata": {},
   "outputs": [
    {
     "name": "stdout",
     "output_type": "stream",
     "text": [
      "Aplying KPCA with 2 components\n",
      "Obtained results => \n",
      " [[-0.07891543  0.55757111]\n",
      " [-0.17340956  0.28759429]\n",
      " [ 0.4654895  -0.06369721]\n",
      " [-0.52655826 -0.24499383]\n",
      " [-0.10815476  0.53100554]]\n"
     ]
    }
   ],
   "source": [
    "# KPCA \n",
    "components = 2\n",
    "print(f\"Aplying KPCA with {components} components\")\n",
    "kpca = KernelPCA(n_components=components,kernel=\"rbf\")\n",
    "xtrain = kpca.fit_transform(xtrain)\n",
    "xtest = kpca.fit(xtest)\n",
    "\n",
    "print(\"Obtained results => \\n\",xtrain[:5])"
   ]
  },
  {
   "cell_type": "code",
   "execution_count": 16,
   "metadata": {},
   "outputs": [
    {
     "data": {
      "text/plain": [
       "<matplotlib.collections.PathCollection at 0x7f7719314e80>"
      ]
     },
     "execution_count": 16,
     "metadata": {},
     "output_type": "execute_result"
    },
    {
     "data": {
      "image/png": "[encoded data removed]",
      "text/plain": [
       "<Figure size 640x480 with 1 Axes>"
      ]
     },
     "metadata": {},
     "output_type": "display_data"
    }
   ],
   "source": [
    "plt.scatter(xtrain[:,0],xtrain[:,1])"
   ]
  }
 ],
 "metadata": {
  "kernelspec": {
   "display_name": "Python 3.10.7 64-bit",
   "language": "python",
   "name": "python3"
  },
  "language_info": {
   "codemirror_mode": {
    "name": "ipython",
    "version": 3
   },
   "file_extension": ".py",
   "mimetype": "text/x-python",
   "name": "python",
   "nbconvert_exporter": "python",
   "pygments_lexer": "ipython3",
   "version": "3.10.7"
  },
  "orig_nbformat": 4,
  "vscode": {
   "interpreter": {
    "hash": "e7370f93d1d0cde622a1f8e1c04877d8463912d04d973331ad4851f04de6915a"
   }
  }
 },
 "nbformat": 4,
 "nbformat_minor": 2
}
